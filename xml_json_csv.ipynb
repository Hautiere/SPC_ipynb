{
 "cells": [
  {
   "cell_type": "code",
   "execution_count": 1,
   "id": "b74a5d72",
   "metadata": {},
   "outputs": [
    {
     "name": "stdout",
     "output_type": "stream",
     "text": [
      "Requirement already satisfied: xmltodict in /Users/roigradlon/opt/anaconda3/lib/python3.9/site-packages (0.13.0)\n",
      "Note: you may need to restart the kernel to use updated packages.\n"
     ]
    }
   ],
   "source": [
    "pip install xmltodict"
   ]
  },
  {
   "cell_type": "markdown",
   "id": "8943515e",
   "metadata": {},
   "source": [
    "## XML 2 JSON\n",
    "You can call the function xml_to_json(xml_file, json_file) where xml_file is the path of the xml file and json_file is the path of the json file you want to create.\n",
    "\n",
    "This code uses the xmltodict library to convert the XML data to a dictionary, and then the json module to write the dictionary to the JSON file.\n",
    "\n",
    "Please note that this code will only convert the first level of the xml tags into json object, if you would like to convert all the nested tags you may need to use a different library like 'lxml'\n",
    "\n",
    "Also the conversion may not be exact as json and xml have different ways of representing data, but this code will give you a good starting point."
   ]
  },
  {
   "cell_type": "code",
   "execution_count": 2,
   "id": "8299d246",
   "metadata": {},
   "outputs": [],
   "source": [
    "import xmltodict\n",
    "import json\n",
    "\n",
    "def xml_to_json(xml_file, json_file):\n",
    "    # Open the XML file\n",
    "    with open('sample_file.xml', 'r') as f:\n",
    "        xml_data = f.read()\n",
    "\n",
    "    # Convert the XML data to a dictionary\n",
    "    json_data = json.dumps(xmltodict.parse(xml_data))\n",
    "\n",
    "    # Write the JSON data to the JSON file\n",
    "    with open(json_file, 'w') as f:\n",
    "        f.write(json_data)\n",
    "\n",
    "xml_to_json('data.xml', 'data1.json')"
   ]
  },
  {
   "cell_type": "markdown",
   "id": "aafaaeb8",
   "metadata": {},
   "source": [
    "## indentation \n",
    "In this example, the json.dump(json_data, f, indent=4) line will write the data in json_data to the json file f and indent the data by 4 spaces.\n",
    "\n",
    "You can adjust the indentation by changing the value passed to the indent parameter. If you want to use '\\n' instead of spaces for indentation you can use json.dump(json_data, f, indent='\\t')\n",
    "\n",
    "This will create a human-readable JSON file, where the data is indented, making it easier to read and understand.\n"
   ]
  },
  {
   "cell_type": "code",
   "execution_count": 4,
   "id": "f2cbed0e",
   "metadata": {},
   "outputs": [],
   "source": [
    "import xmltodict\n",
    "import json\n",
    "\n",
    "def xml_to_json(xml_file, json_file):\n",
    "    # Open the XML file\n",
    "    with open('sample_file.xml', 'r') as f:\n",
    "        xml_data = f.read()\n",
    "\n",
    "    # Convert the XML data to a dictionary\n",
    "    json_data = xmltodict.parse(xml_data)\n",
    "\n",
    "    # Write the JSON data to the JSON file\n",
    "    with open(json_file, 'w') as f:\n",
    "        json.dump(json_data, f, indent=4)\n",
    "\n",
    "xml_to_json('data.xml', 'data_indent_1.json')\n"
   ]
  },
  {
   "cell_type": "markdown",
   "id": "23939354",
   "metadata": {},
   "source": [
    "## json.dump(json_data, f, indent='\\t')\n",
    "\n",
    "This will create a human-readable JSON file, where the data is indented, making it easier to read and understand.\n"
   ]
  },
  {
   "cell_type": "code",
   "execution_count": 5,
   "id": "3fbbf828",
   "metadata": {},
   "outputs": [],
   "source": [
    "import xmltodict\n",
    "import json\n",
    "\n",
    "def xml_to_json(xml_file, json_file):\n",
    "    # Open the XML file\n",
    "    with open('sample_file.xml', 'r') as f:\n",
    "        xml_data = f.read()\n",
    "\n",
    "    # Convert the XML data to a dictionary\n",
    "    json_data = xmltodict.parse(xml_data)\n",
    "\n",
    "    # Write the JSON data to the JSON file\n",
    "    with open(json_file, 'w') as f:\n",
    "        json.dump(json_data, f, indent='\\t')\n",
    "\n",
    "\n",
    "xml_to_json('data.xml', 'data_indent_2.json')\n"
   ]
  },
  {
   "cell_type": "code",
   "execution_count": 8,
   "id": "1a862c0a",
   "metadata": {},
   "outputs": [
    {
     "ename": "KeyError",
     "evalue": "0",
     "output_type": "error",
     "traceback": [
      "\u001b[0;31m---------------------------------------------------------------------------\u001b[0m",
      "\u001b[0;31mKeyError\u001b[0m                                  Traceback (most recent call last)",
      "\u001b[0;32m/var/folders/8h/8cnymyhx4px7pmttl59xjg980000gt/T/ipykernel_19081/3852570382.py\u001b[0m in \u001b[0;36m<module>\u001b[0;34m\u001b[0m\n\u001b[1;32m     14\u001b[0m             \u001b[0mwriter\u001b[0m\u001b[0;34m.\u001b[0m\u001b[0mwriterow\u001b[0m\u001b[0;34m(\u001b[0m\u001b[0mrow\u001b[0m\u001b[0;34m)\u001b[0m\u001b[0;34m\u001b[0m\u001b[0;34m\u001b[0m\u001b[0m\n\u001b[1;32m     15\u001b[0m \u001b[0;34m\u001b[0m\u001b[0m\n\u001b[0;32m---> 16\u001b[0;31m \u001b[0mjson_to_csv\u001b[0m\u001b[0;34m(\u001b[0m\u001b[0;34m'data.json'\u001b[0m\u001b[0;34m,\u001b[0m \u001b[0;34m'data.csv'\u001b[0m\u001b[0;34m)\u001b[0m\u001b[0;34m\u001b[0m\u001b[0;34m\u001b[0m\u001b[0m\n\u001b[0m",
      "\u001b[0;32m/var/folders/8h/8cnymyhx4px7pmttl59xjg980000gt/T/ipykernel_19081/3852570382.py\u001b[0m in \u001b[0;36mjson_to_csv\u001b[0;34m(json_file, csv_file)\u001b[0m\n\u001b[1;32m      9\u001b[0m     \u001b[0;31m# Write the JSON data to the CSV file\u001b[0m\u001b[0;34m\u001b[0m\u001b[0;34m\u001b[0m\u001b[0m\n\u001b[1;32m     10\u001b[0m     \u001b[0;32mwith\u001b[0m \u001b[0mopen\u001b[0m\u001b[0;34m(\u001b[0m\u001b[0mcsv_file\u001b[0m\u001b[0;34m,\u001b[0m \u001b[0;34m'w'\u001b[0m\u001b[0;34m)\u001b[0m \u001b[0;32mas\u001b[0m \u001b[0mf\u001b[0m\u001b[0;34m:\u001b[0m\u001b[0;34m\u001b[0m\u001b[0;34m\u001b[0m\u001b[0m\n\u001b[0;32m---> 11\u001b[0;31m         \u001b[0mwriter\u001b[0m \u001b[0;34m=\u001b[0m \u001b[0mcsv\u001b[0m\u001b[0;34m.\u001b[0m\u001b[0mDictWriter\u001b[0m\u001b[0;34m(\u001b[0m\u001b[0mf\u001b[0m\u001b[0;34m,\u001b[0m \u001b[0mjson_data\u001b[0m\u001b[0;34m[\u001b[0m\u001b[0;36m0\u001b[0m\u001b[0;34m]\u001b[0m\u001b[0;34m.\u001b[0m\u001b[0mkeys\u001b[0m\u001b[0;34m(\u001b[0m\u001b[0;34m)\u001b[0m\u001b[0;34m)\u001b[0m\u001b[0;34m\u001b[0m\u001b[0;34m\u001b[0m\u001b[0m\n\u001b[0m\u001b[1;32m     12\u001b[0m         \u001b[0mwriter\u001b[0m\u001b[0;34m.\u001b[0m\u001b[0mwriteheader\u001b[0m\u001b[0;34m(\u001b[0m\u001b[0;34m)\u001b[0m\u001b[0;34m\u001b[0m\u001b[0;34m\u001b[0m\u001b[0m\n\u001b[1;32m     13\u001b[0m         \u001b[0;32mfor\u001b[0m \u001b[0mrow\u001b[0m \u001b[0;32min\u001b[0m \u001b[0mjson_data\u001b[0m\u001b[0;34m:\u001b[0m\u001b[0;34m\u001b[0m\u001b[0;34m\u001b[0m\u001b[0m\n",
      "\u001b[0;31mKeyError\u001b[0m: 0"
     ]
    }
   ],
   "source": [
    "import json\n",
    "import csv\n",
    "\n",
    "def json_to_csv(json_file, csv_file):\n",
    "    # Open the JSON file\n",
    "    with open('data_indent_2.json', 'r') as f:\n",
    "        json_data = json.load(f)\n",
    "\n",
    "    # Write the JSON data to the CSV file\n",
    "    with open(csv_file, 'w') as f:\n",
    "        writer = csv.DictWriter(f, json_data[0].keys())\n",
    "        writer.writeheader()\n",
    "        for row in json_data:\n",
    "            writer.writerow(row)\n",
    "\n",
    "json_to_csv('data.json', 'data.csv')\n"
   ]
  },
  {
   "cell_type": "code",
   "execution_count": 10,
   "id": "bbece986",
   "metadata": {},
   "outputs": [
    {
     "ename": "KeyError",
     "evalue": "0",
     "output_type": "error",
     "traceback": [
      "\u001b[0;31m---------------------------------------------------------------------------\u001b[0m",
      "\u001b[0;31mKeyError\u001b[0m                                  Traceback (most recent call last)",
      "\u001b[0;32m/var/folders/8h/8cnymyhx4px7pmttl59xjg980000gt/T/ipykernel_19081/3391604116.py\u001b[0m in \u001b[0;36m<module>\u001b[0;34m\u001b[0m\n\u001b[1;32m     19\u001b[0m             \u001b[0mwriter\u001b[0m\u001b[0;34m.\u001b[0m\u001b[0mwriterow\u001b[0m\u001b[0;34m(\u001b[0m\u001b[0mrow\u001b[0m\u001b[0;34m)\u001b[0m\u001b[0;34m\u001b[0m\u001b[0;34m\u001b[0m\u001b[0m\n\u001b[1;32m     20\u001b[0m \u001b[0;34m\u001b[0m\u001b[0m\n\u001b[0;32m---> 21\u001b[0;31m \u001b[0mjson_to_csv\u001b[0m\u001b[0;34m(\u001b[0m\u001b[0;34m'data_indent_2.json'\u001b[0m\u001b[0;34m,\u001b[0m \u001b[0;34m'data.csv'\u001b[0m\u001b[0;34m)\u001b[0m\u001b[0;34m\u001b[0m\u001b[0;34m\u001b[0m\u001b[0m\n\u001b[0m",
      "\u001b[0;32m/var/folders/8h/8cnymyhx4px7pmttl59xjg980000gt/T/ipykernel_19081/3391604116.py\u001b[0m in \u001b[0;36mjson_to_csv\u001b[0;34m(json_file, csv_file)\u001b[0m\n\u001b[1;32m     15\u001b[0m     \u001b[0;31m# Write the JSON data to the CSV file\u001b[0m\u001b[0;34m\u001b[0m\u001b[0;34m\u001b[0m\u001b[0m\n\u001b[1;32m     16\u001b[0m     \u001b[0;32mwith\u001b[0m \u001b[0mopen\u001b[0m\u001b[0;34m(\u001b[0m\u001b[0mcsv_file\u001b[0m\u001b[0;34m,\u001b[0m \u001b[0;34m'a'\u001b[0m\u001b[0;34m)\u001b[0m \u001b[0;32mas\u001b[0m \u001b[0mf\u001b[0m\u001b[0;34m:\u001b[0m\u001b[0;34m\u001b[0m\u001b[0;34m\u001b[0m\u001b[0m\n\u001b[0;32m---> 17\u001b[0;31m         \u001b[0mwriter\u001b[0m \u001b[0;34m=\u001b[0m \u001b[0mcsv\u001b[0m\u001b[0;34m.\u001b[0m\u001b[0mDictWriter\u001b[0m\u001b[0;34m(\u001b[0m\u001b[0mf\u001b[0m\u001b[0;34m,\u001b[0m \u001b[0mjson_data\u001b[0m\u001b[0;34m[\u001b[0m\u001b[0;36m0\u001b[0m\u001b[0;34m]\u001b[0m\u001b[0;34m.\u001b[0m\u001b[0mkeys\u001b[0m\u001b[0;34m(\u001b[0m\u001b[0;34m)\u001b[0m\u001b[0;34m)\u001b[0m\u001b[0;34m\u001b[0m\u001b[0;34m\u001b[0m\u001b[0m\n\u001b[0m\u001b[1;32m     18\u001b[0m         \u001b[0;32mfor\u001b[0m \u001b[0mrow\u001b[0m \u001b[0;32min\u001b[0m \u001b[0mjson_data\u001b[0m\u001b[0;34m:\u001b[0m\u001b[0;34m\u001b[0m\u001b[0;34m\u001b[0m\u001b[0m\n\u001b[1;32m     19\u001b[0m             \u001b[0mwriter\u001b[0m\u001b[0;34m.\u001b[0m\u001b[0mwriterow\u001b[0m\u001b[0;34m(\u001b[0m\u001b[0mrow\u001b[0m\u001b[0;34m)\u001b[0m\u001b[0;34m\u001b[0m\u001b[0;34m\u001b[0m\u001b[0m\n",
      "\u001b[0;31mKeyError\u001b[0m: 0"
     ]
    }
   ],
   "source": [
    "import json\n",
    "import csv\n",
    "import os\n",
    "\n",
    "def json_to_csv(json_file, csv_file):\n",
    "    # Open the JSON file\n",
    "    with open('data_indent_2.json', 'r') as f:\n",
    "        json_data = json.load(f)\n",
    "\n",
    "    # Create the CSV file if it does not exist\n",
    "    if not os.path.isfile(csv_file):\n",
    "        with open(csv_file, 'w') as f:\n",
    "            writer = csv.DictWriter(f, json_data[0].keys())\n",
    "            writer.writeheader()\n",
    "    # Write the JSON data to the CSV file\n",
    "    with open(csv_file, 'a') as f:\n",
    "        writer = csv.DictWriter(f, json_data[0].keys())\n",
    "        for row in json_data:\n",
    "            writer.writerow(row)\n",
    "\n",
    "json_to_csv('data_indent_2.json', 'data.csv')"
   ]
  },
  {
   "cell_type": "code",
   "execution_count": 18,
   "id": "251a938a",
   "metadata": {},
   "outputs": [
    {
     "ename": "KeyError",
     "evalue": "0",
     "output_type": "error",
     "traceback": [
      "\u001b[0;31m---------------------------------------------------------------------------\u001b[0m",
      "\u001b[0;31mKeyError\u001b[0m                                  Traceback (most recent call last)",
      "\u001b[0;32m/var/folders/8h/8cnymyhx4px7pmttl59xjg980000gt/T/ipykernel_19081/253491126.py\u001b[0m in \u001b[0;36m<module>\u001b[0;34m\u001b[0m\n\u001b[1;32m     26\u001b[0m         \u001b[0mprint\u001b[0m\u001b[0;34m(\u001b[0m\u001b[0;34m\"json_data list is empty, no data to write.\"\u001b[0m\u001b[0;34m)\u001b[0m\u001b[0;34m\u001b[0m\u001b[0;34m\u001b[0m\u001b[0m\n\u001b[1;32m     27\u001b[0m \u001b[0;34m\u001b[0m\u001b[0m\n\u001b[0;32m---> 28\u001b[0;31m \u001b[0mjson_to_csv\u001b[0m\u001b[0;34m(\u001b[0m\u001b[0;34m'data_indent_2.json'\u001b[0m\u001b[0;34m,\u001b[0m \u001b[0;34m'data.csv'\u001b[0m\u001b[0;34m)\u001b[0m\u001b[0;34m\u001b[0m\u001b[0;34m\u001b[0m\u001b[0m\n\u001b[0m",
      "\u001b[0;32m/var/folders/8h/8cnymyhx4px7pmttl59xjg980000gt/T/ipykernel_19081/253491126.py\u001b[0m in \u001b[0;36mjson_to_csv\u001b[0;34m(json_file, csv_file)\u001b[0m\n\u001b[1;32m      9\u001b[0m \u001b[0;34m\u001b[0m\u001b[0m\n\u001b[1;32m     10\u001b[0m     \u001b[0;31m# print (\"json_data =\", json_data)\u001b[0m\u001b[0;34m\u001b[0m\u001b[0;34m\u001b[0m\u001b[0m\n\u001b[0;32m---> 11\u001b[0;31m     \u001b[0mprint\u001b[0m \u001b[0;34m(\u001b[0m\u001b[0;34m\"json_data =\"\u001b[0m\u001b[0;34m,\u001b[0m \u001b[0mjson_data\u001b[0m\u001b[0;34m[\u001b[0m\u001b[0;36m0\u001b[0m\u001b[0;34m]\u001b[0m\u001b[0;34m.\u001b[0m\u001b[0mkeys\u001b[0m\u001b[0;34m(\u001b[0m\u001b[0;34m)\u001b[0m\u001b[0;34m)\u001b[0m\u001b[0;34m\u001b[0m\u001b[0;34m\u001b[0m\u001b[0m\n\u001b[0m\u001b[1;32m     12\u001b[0m \u001b[0;34m\u001b[0m\u001b[0m\n\u001b[1;32m     13\u001b[0m     \u001b[0;31m# check if json_data is not empty\u001b[0m\u001b[0;34m\u001b[0m\u001b[0;34m\u001b[0m\u001b[0m\n",
      "\u001b[0;31mKeyError\u001b[0m: 0"
     ]
    }
   ],
   "source": [
    "import json\n",
    "import csv\n",
    "import os\n",
    "\n",
    "def json_to_csv(json_file, csv_file):\n",
    "    # Open the JSON file\n",
    "    with open('data_indent_2.json', 'r') as f:\n",
    "        json_data = json.load(f)\n",
    "\n",
    "    # print (\"json_data =\", json_data)\n",
    "    print (\"json_data =\", json_data[0].keys())\n",
    "           \n",
    "    # check if json_data is not empty\n",
    "    if json_data:\n",
    "        # Create the CSV file if it does not exist\n",
    "        if not os.path.isfile(csv_file):\n",
    "            with open(csv_file, 'w') as f:\n",
    "                writer = csv.DictWriter(f, json_data[0].keys())\n",
    "                writer.writeheader()\n",
    "        # Write the JSON data to the CSV file\n",
    "        with open(csv_file, 'a') as f:\n",
    "            writer = csv.DictWriter(f, json_data[0].keys())\n",
    "            for row in json_data:\n",
    "                writer.writerow(row)\n",
    "    else:\n",
    "        print(\"json_data list is empty, no data to write.\")\n",
    "\n",
    "json_to_csv('data_indent_2.json', 'data.csv')\n"
   ]
  },
  {
   "cell_type": "code",
   "execution_count": 19,
   "id": "da7bde65",
   "metadata": {},
   "outputs": [
    {
     "ename": "KeyError",
     "evalue": "0",
     "output_type": "error",
     "traceback": [
      "\u001b[0;31m---------------------------------------------------------------------------\u001b[0m",
      "\u001b[0;31mKeyError\u001b[0m                                  Traceback (most recent call last)",
      "\u001b[0;32m/var/folders/8h/8cnymyhx4px7pmttl59xjg980000gt/T/ipykernel_19081/3707756957.py\u001b[0m in \u001b[0;36m<module>\u001b[0;34m\u001b[0m\n\u001b[1;32m     24\u001b[0m         \u001b[0mprint\u001b[0m\u001b[0;34m(\u001b[0m\u001b[0;34m\"json_data list is empty, no data to write.\"\u001b[0m\u001b[0;34m)\u001b[0m\u001b[0;34m\u001b[0m\u001b[0;34m\u001b[0m\u001b[0m\n\u001b[1;32m     25\u001b[0m \u001b[0;34m\u001b[0m\u001b[0m\n\u001b[0;32m---> 26\u001b[0;31m \u001b[0mjson_to_csv\u001b[0m\u001b[0;34m(\u001b[0m\u001b[0;34m'data.json'\u001b[0m\u001b[0;34m,\u001b[0m \u001b[0;34m'data.csv'\u001b[0m\u001b[0;34m)\u001b[0m\u001b[0;34m\u001b[0m\u001b[0;34m\u001b[0m\u001b[0m\n\u001b[0m",
      "\u001b[0;32m/var/folders/8h/8cnymyhx4px7pmttl59xjg980000gt/T/ipykernel_19081/3707756957.py\u001b[0m in \u001b[0;36mjson_to_csv\u001b[0;34m(json_file, csv_file)\u001b[0m\n\u001b[1;32m     10\u001b[0m     \u001b[0;31m# check if json_data is not empty\u001b[0m\u001b[0;34m\u001b[0m\u001b[0;34m\u001b[0m\u001b[0m\n\u001b[1;32m     11\u001b[0m     \u001b[0;32mif\u001b[0m \u001b[0mjson_data\u001b[0m\u001b[0;34m:\u001b[0m\u001b[0;34m\u001b[0m\u001b[0;34m\u001b[0m\u001b[0m\n\u001b[0;32m---> 12\u001b[0;31m         \u001b[0mfieldnames\u001b[0m \u001b[0;34m=\u001b[0m \u001b[0mlist\u001b[0m\u001b[0;34m(\u001b[0m\u001b[0mjson_data\u001b[0m\u001b[0;34m[\u001b[0m\u001b[0;36m0\u001b[0m\u001b[0;34m]\u001b[0m\u001b[0;34m.\u001b[0m\u001b[0mkeys\u001b[0m\u001b[0;34m(\u001b[0m\u001b[0;34m)\u001b[0m\u001b[0;34m)\u001b[0m\u001b[0;34m\u001b[0m\u001b[0;34m\u001b[0m\u001b[0m\n\u001b[0m\u001b[1;32m     13\u001b[0m         \u001b[0;31m# Create the CSV file if it does not exist\u001b[0m\u001b[0;34m\u001b[0m\u001b[0;34m\u001b[0m\u001b[0m\n\u001b[1;32m     14\u001b[0m         \u001b[0;32mif\u001b[0m \u001b[0;32mnot\u001b[0m \u001b[0mos\u001b[0m\u001b[0;34m.\u001b[0m\u001b[0mpath\u001b[0m\u001b[0;34m.\u001b[0m\u001b[0misfile\u001b[0m\u001b[0;34m(\u001b[0m\u001b[0mcsv_file\u001b[0m\u001b[0;34m)\u001b[0m\u001b[0;34m:\u001b[0m\u001b[0;34m\u001b[0m\u001b[0;34m\u001b[0m\u001b[0m\n",
      "\u001b[0;31mKeyError\u001b[0m: 0"
     ]
    }
   ],
   "source": [
    "import json\n",
    "import csv\n",
    "import os\n",
    "\n",
    "def json_to_csv(json_file, csv_file):\n",
    "    # Open the JSON file\n",
    "    with open('data.json', 'r') as f:\n",
    "        json_data = json.load(f)\n",
    "\n",
    "    # check if json_data is not empty\n",
    "    if json_data:\n",
    "        fieldnames = list(json_data[0].keys())\n",
    "        # Create the CSV file if it does not exist\n",
    "        if not os.path.isfile(csv_file):\n",
    "            with open(csv_file, 'w') as f:\n",
    "                writer = csv.DictWriter(f, fieldnames)\n",
    "                writer.writeheader()\n",
    "        # Write the JSON data to the CSV file\n",
    "        with open(csv_file, 'a') as f:\n",
    "            writer = csv.DictWriter(f, fieldnames)\n",
    "            for row in json_data:\n",
    "                writer.writerow(row)\n",
    "    else:\n",
    "        print(\"json_data list is empty, no data to write.\")\n",
    "\n",
    "json_to_csv('data.json', 'data.csv')\n"
   ]
  },
  {
   "cell_type": "code",
   "execution_count": 20,
   "id": "07b0a704",
   "metadata": {},
   "outputs": [
    {
     "ename": "KeyError",
     "evalue": "0",
     "output_type": "error",
     "traceback": [
      "\u001b[0;31m---------------------------------------------------------------------------\u001b[0m",
      "\u001b[0;31mKeyError\u001b[0m                                  Traceback (most recent call last)",
      "\u001b[0;32m/var/folders/8h/8cnymyhx4px7pmttl59xjg980000gt/T/ipykernel_19081/3707756957.py\u001b[0m in \u001b[0;36m<module>\u001b[0;34m\u001b[0m\n\u001b[1;32m     24\u001b[0m         \u001b[0mprint\u001b[0m\u001b[0;34m(\u001b[0m\u001b[0;34m\"json_data list is empty, no data to write.\"\u001b[0m\u001b[0;34m)\u001b[0m\u001b[0;34m\u001b[0m\u001b[0;34m\u001b[0m\u001b[0m\n\u001b[1;32m     25\u001b[0m \u001b[0;34m\u001b[0m\u001b[0m\n\u001b[0;32m---> 26\u001b[0;31m \u001b[0mjson_to_csv\u001b[0m\u001b[0;34m(\u001b[0m\u001b[0;34m'data.json'\u001b[0m\u001b[0;34m,\u001b[0m \u001b[0;34m'data.csv'\u001b[0m\u001b[0;34m)\u001b[0m\u001b[0;34m\u001b[0m\u001b[0;34m\u001b[0m\u001b[0m\n\u001b[0m",
      "\u001b[0;32m/var/folders/8h/8cnymyhx4px7pmttl59xjg980000gt/T/ipykernel_19081/3707756957.py\u001b[0m in \u001b[0;36mjson_to_csv\u001b[0;34m(json_file, csv_file)\u001b[0m\n\u001b[1;32m     10\u001b[0m     \u001b[0;31m# check if json_data is not empty\u001b[0m\u001b[0;34m\u001b[0m\u001b[0;34m\u001b[0m\u001b[0m\n\u001b[1;32m     11\u001b[0m     \u001b[0;32mif\u001b[0m \u001b[0mjson_data\u001b[0m\u001b[0;34m:\u001b[0m\u001b[0;34m\u001b[0m\u001b[0;34m\u001b[0m\u001b[0m\n\u001b[0;32m---> 12\u001b[0;31m         \u001b[0mfieldnames\u001b[0m \u001b[0;34m=\u001b[0m \u001b[0mlist\u001b[0m\u001b[0;34m(\u001b[0m\u001b[0mjson_data\u001b[0m\u001b[0;34m[\u001b[0m\u001b[0;36m0\u001b[0m\u001b[0;34m]\u001b[0m\u001b[0;34m.\u001b[0m\u001b[0mkeys\u001b[0m\u001b[0;34m(\u001b[0m\u001b[0;34m)\u001b[0m\u001b[0;34m)\u001b[0m\u001b[0;34m\u001b[0m\u001b[0;34m\u001b[0m\u001b[0m\n\u001b[0m\u001b[1;32m     13\u001b[0m         \u001b[0;31m# Create the CSV file if it does not exist\u001b[0m\u001b[0;34m\u001b[0m\u001b[0;34m\u001b[0m\u001b[0m\n\u001b[1;32m     14\u001b[0m         \u001b[0;32mif\u001b[0m \u001b[0;32mnot\u001b[0m \u001b[0mos\u001b[0m\u001b[0;34m.\u001b[0m\u001b[0mpath\u001b[0m\u001b[0;34m.\u001b[0m\u001b[0misfile\u001b[0m\u001b[0;34m(\u001b[0m\u001b[0mcsv_file\u001b[0m\u001b[0;34m)\u001b[0m\u001b[0;34m:\u001b[0m\u001b[0;34m\u001b[0m\u001b[0;34m\u001b[0m\u001b[0m\n",
      "\u001b[0;31mKeyError\u001b[0m: 0"
     ]
    }
   ],
   "source": [
    "import json\n",
    "import csv\n",
    "import os\n",
    "\n",
    "def json_to_csv(json_file, csv_file):\n",
    "    # Open the JSON file\n",
    "    with open('data.json', 'r') as f:\n",
    "        json_data = json.load(f)\n",
    "\n",
    "    # check if json_data is not empty\n",
    "    if json_data:\n",
    "        fieldnames = list(json_data[0].keys())\n",
    "        # Create the CSV file if it does not exist\n",
    "        if not os.path.isfile(csv_file):\n",
    "            with open(csv_file, 'w') as f:\n",
    "                writer = csv.DictWriter(f, fieldnames)\n",
    "                writer.writeheader()\n",
    "        # Write the JSON data to the CSV file\n",
    "        with open(csv_file, 'a') as f:\n",
    "            writer = csv.DictWriter(f, fieldnames)\n",
    "            for row in json_data:\n",
    "                writer.writerow(row)\n",
    "    else:\n",
    "        print(\"json_data list is empty, no data to write.\")\n",
    "\n",
    "json_to_csv('data.json', 'data.csv')\n"
   ]
  },
  {
   "cell_type": "code",
   "execution_count": 22,
   "id": "e12569d1",
   "metadata": {},
   "outputs": [
    {
     "name": "stdout",
     "output_type": "stream",
     "text": [
      "json_data= {'sigmacollect': {'@gendatetime': '2018-12-31T23:59:59', '@filename': 'SIGMA_REF362-001-001-0_OF123456_OP460010_SNAB654321_20181231235959_0002.xml', '@version': '1.0.3', '@xsi:noNamespaceSchemaLocation': 'SigmaCollect_v1.0.3.05.xsd', '@xmlns:xsi': 'http://www.w3.org/2001/XMLSchema-instance', 'partner': {'@id': '27D321E8-16B0-44A9-A1CF-603F1DE6F87B', '@type': 'internal', '@factory': 'CBL'}, 'workshop': {'@name': 'MMT-IBLE'}, 'joborder': [{'@xsi:type': 'baan', '@id': '123456', '@launchingdate': '2018-12-25', '@partidproduct': '362-001-001-0S1', '@mod': 'MODA12345', '@taskcode': '362-001-001-0S1_01_015', '@mgmtope': '460010', '@descope': 'Contrôle MMT final'}, {'@xsi:type': 'syteline', '@id': '123456', '@launchingdate': '2018-12-25', '@partidproduct': '362-001-001-0S1', '@mod': 'MODA12345', '@taskcode': '362-001-001-0S1_01_015', '@mgmtope': '460010', '@descope': 'Contrôle MMT final', 'serials': {'serial': {'@value': 'AB123456'}}}], 'machine': {'@idcmms': 'CMM004', '@name': 'FAN BLADE - MMT FINAL'}, 'recipe': {'@name': 'C-02-1-277647V02'}, 'cycle': {'@starttime': '2018-12-31T23:30:00', '@endtime': '2018-12-31T23:30:00', 'parameters': {'parameter': [{'@xsi:type': 'floatscalar', '@name': 'D008_1', '@verified': 'false', '@specification': 'D008', '@axialoccurrence': '1', '@value': '19.95'}, {'@xsi:type': 'floatscalar', '@name': 'D008_2', '@verified': 'false', '@specification': 'D008', '@axialoccurrence': '2', '@value': '19.92'}, {'@xsi:type': 'floatscalar', '@name': 'D008_3', '@verified': 'false', '@specification': 'D008', '@axialoccurrence': '3', '@value': '20.19'}, {'@xsi:type': 'floatscalar', '@name': 'D008_4', '@verified': 'false', '@specification': 'D008', '@axialoccurrence': '4', '@value': '19.85'}, {'@xsi:type': 'floatscalar', '@name': 'D008', '@verified': 'true', '@specification': 'D008', '@value': '20.19'}]}, 'comment': \"Fichier XML SIGMA d'exemple fourni par le département d'Ingénierie de Maîtrise Dimensionnelle\"}, 'attachments': {'attachment': [{'@filename': 'Cartographie-1.xlsx'}, {'@filename': 'Cartographie-1.pdf'}]}}}\n",
      "json_data is empty or not a list of dictionaries, no data to write.\n"
     ]
    }
   ],
   "source": [
    "import json\n",
    "import csv\n",
    "import os\n",
    "\n",
    "def json_to_csv(json_file, csv_file):\n",
    "    # Open the JSON file\n",
    "    with open('data.json', 'r') as f:\n",
    "        json_data = json.load(f)\n",
    "\n",
    "    print(\"json_data=\", json_data) \n",
    "    if isinstance(json_data, list) and json_data and all(isinstance(i, dict) for i in json_data):\n",
    "        fieldnames = list(json_data[0].keys())\n",
    "        # Create the CSV file if it does not exist\n",
    "        if not os.path.isfile(csv_file):\n",
    "            with open(csv_file, 'w') as f:\n",
    "                writer = csv.DictWriter(f, fieldnames)\n",
    "                writer.writeheader()\n",
    "        # Write the JSON data to the CSV file\n",
    "        with open(csv_file, 'a') as f:\n",
    "            writer = csv.DictWriter(f, fieldnames)\n",
    "            for row in json_data:\n",
    "                writer.writerow(row)\n",
    "    else:\n",
    "        print(\"json_data is empty or not a list of dictionaries, no data to write.\")\n",
    "\n",
    "json_to_csv('data.json', 'data.csv')\n"
   ]
  },
  {
   "cell_type": "code",
   "execution_count": 23,
   "id": "9762492a",
   "metadata": {},
   "outputs": [
    {
     "name": "stdout",
     "output_type": "stream",
     "text": [
      "  sigmacollect.@gendatetime  \\\n",
      "0       2018-12-31T23:59:59   \n",
      "\n",
      "                              sigmacollect.@filename sigmacollect.@version  \\\n",
      "0  SIGMA_REF362-001-001-0_OF123456_OP460010_SNAB6...                 1.0.3   \n",
      "\n",
      "  sigmacollect.@xsi:noNamespaceSchemaLocation  \\\n",
      "0                  SigmaCollect_v1.0.3.05.xsd   \n",
      "\n",
      "                     sigmacollect.@xmlns:xsi  \\\n",
      "0  http://www.w3.org/2001/XMLSchema-instance   \n",
      "\n",
      "               sigmacollect.partner.@id sigmacollect.partner.@type  \\\n",
      "0  27D321E8-16B0-44A9-A1CF-603F1DE6F87B                   internal   \n",
      "\n",
      "  sigmacollect.partner.@factory sigmacollect.workshop.@name  \\\n",
      "0                           CBL                    MMT-IBLE   \n",
      "\n",
      "                               sigmacollect.joborder  \\\n",
      "0  [{'@xsi:type': 'baan', '@id': '123456', '@laun...   \n",
      "\n",
      "  sigmacollect.machine.@idcmms sigmacollect.machine.@name  \\\n",
      "0                       CMM004      FAN BLADE - MMT FINAL   \n",
      "\n",
      "  sigmacollect.recipe.@name sigmacollect.cycle.@starttime  \\\n",
      "0          C-02-1-277647V02           2018-12-31T23:30:00   \n",
      "\n",
      "  sigmacollect.cycle.@endtime  \\\n",
      "0         2018-12-31T23:30:00   \n",
      "\n",
      "             sigmacollect.cycle.parameters.parameter  \\\n",
      "0  [{'@xsi:type': 'floatscalar', '@name': 'D008_1...   \n",
      "\n",
      "                          sigmacollect.cycle.comment  \\\n",
      "0  Fichier XML SIGMA d'exemple fourni par le dépa...   \n",
      "\n",
      "                 sigmacollect.attachments.attachment  \n",
      "0  [{'@filename': 'Cartographie-1.xlsx'}, {'@file...  \n"
     ]
    }
   ],
   "source": [
    "import pandas as pd\n",
    "import json\n",
    "\n",
    "# Load the JSON file\n",
    "with open(\"data.json\", \"r\") as json_file:\n",
    "    json_data = json.load(json_file)\n",
    "\n",
    "# Convert the JSON data to a DataFrame\n",
    "df = pd.json_normalize(json_data)\n",
    "\n",
    "# Print the DataFrame\n",
    "print(df)\n"
   ]
  },
  {
   "cell_type": "code",
   "execution_count": null,
   "id": "3a188cbf",
   "metadata": {},
   "outputs": [],
   "source": []
  }
 ],
 "metadata": {
  "kernelspec": {
   "display_name": "Python 3 (ipykernel)",
   "language": "python",
   "name": "python3"
  },
  "language_info": {
   "codemirror_mode": {
    "name": "ipython",
    "version": 3
   },
   "file_extension": ".py",
   "mimetype": "text/x-python",
   "name": "python",
   "nbconvert_exporter": "python",
   "pygments_lexer": "ipython3",
   "version": "3.9.13"
  }
 },
 "nbformat": 4,
 "nbformat_minor": 5
}
