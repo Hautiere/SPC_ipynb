{
 "cells": [
  {
   "cell_type": "code",
   "execution_count": null,
   "id": "b74a5d72",
   "metadata": {},
   "outputs": [],
   "source": [
    "pip install xmltodict"
   ]
  },
  {
   "cell_type": "code",
   "execution_count": 1,
   "id": "8299d246",
   "metadata": {},
   "outputs": [],
   "source": [
    "import xmltodict\n",
    "import json\n",
    "\n",
    "def xml_to_json(xml_file, json_file):\n",
    "    # Open the XML file\n",
    "    with open('sample_file.xml', 'r') as f:\n",
    "        xml_data = f.read()\n",
    "\n",
    "    # Convert the XML data to a dictionary\n",
    "    json_data = json.dumps(xmltodict.parse(xml_data))\n",
    "\n",
    "    # Write the JSON data to the JSON file\n",
    "    with open(json_file, 'w') as f:\n",
    "        f.write(json_data)\n",
    "\n",
    "xml_to_json('data.xml', 'data.json')"
   ]
  },
  {
   "cell_type": "code",
   "execution_count": 3,
   "id": "f2cbed0e",
   "metadata": {},
   "outputs": [],
   "source": [
    "import xmltodict\n",
    "import json\n",
    "\n",
    "def xml_to_json(xml_file, json_file):\n",
    "    # Open the XML file\n",
    "    with open('sample_file.xml', 'r') as f:\n",
    "        xml_data = f.read()\n",
    "\n",
    "    # Convert the XML data to a dictionary\n",
    "    json_data = xmltodict.parse(xml_data)\n",
    "\n",
    "    # Write the JSON data to the JSON file\n",
    "    with open(json_file, 'w') as f:\n",
    "        json.dump(json_data, f, indent=4)\n",
    "\n",
    "xml_to_json('data.xml', 'data_indent.json')\n"
   ]
  },
  {
   "cell_type": "code",
   "execution_count": null,
   "id": "3fbbf828",
   "metadata": {},
   "outputs": [],
   "source": []
  }
 ],
 "metadata": {
  "kernelspec": {
   "display_name": "Python 3 (ipykernel)",
   "language": "python",
   "name": "python3"
  },
  "language_info": {
   "codemirror_mode": {
    "name": "ipython",
    "version": 3
   },
   "file_extension": ".py",
   "mimetype": "text/x-python",
   "name": "python",
   "nbconvert_exporter": "python",
   "pygments_lexer": "ipython3",
   "version": "3.9.13"
  }
 },
 "nbformat": 4,
 "nbformat_minor": 5
}
